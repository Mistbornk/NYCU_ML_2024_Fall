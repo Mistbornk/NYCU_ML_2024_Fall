{
 "cells": [
  {
   "cell_type": "code",
   "execution_count": 1,
   "metadata": {},
   "outputs": [],
   "source": [
    "import numpy as np\n",
    "from PIL import Image\n",
    "import os\n",
    "from matplotlib import pyplot as plt"
   ]
  },
  {
   "cell_type": "code",
   "execution_count": 2,
   "metadata": {},
   "outputs": [],
   "source": [
    "def Kernel(img):\n",
    "\t# 計算距離平方\n",
    "\tcolor_dist = np.sum((img[:, None, :] - img[None, :, :])**2, axis=-1)\n",
    "\t# 初始化空間座標\n",
    "\tcoordinates = np.array([[i//100, i%100] for i in range(NUM_PIXEL)])\n",
    "\t# 計算距離平方\n",
    "\tspatial_distance = np.sum((coordinates[:, None, :] - coordinates[None, :, :])**2, axis=-1)\n",
    "\t# 計算 kernel\n",
    "\timg_kernel = np.exp(-GAMMA_S*spatial_distance) * np.exp(-GAMMA_C*color_dist)\n",
    "\n",
    "\treturn img_kernel"
   ]
  },
  {
   "cell_type": "code",
   "execution_count": 61,
   "metadata": {},
   "outputs": [],
   "source": [
    "def Init_Kmeans(U):\n",
    "\tif INIT_METHOD == 'r': # random\n",
    "\t\tprint(\"random\")\n",
    "\t\tcenters = np.random.choice(NUM_PIXEL, NUM_CLUSTER, replace=False)\n",
    "\telif INIT_METHOD == 'k': # k menas ++\n",
    "\t\tprint(\"kmeans++\")\n",
    "\t\tcenters = np.zeros(NUM_CLUSTER, dtype=int)\n",
    "\t\tcenters[0] = np.random.randint(NUM_PIXEL)\n",
    "\t\tfor i in range(1, NUM_CLUSTER):\n",
    "\t\t\tdistances = np.min([np.sum((U - U[c]) ** 2, axis=1) for c in centers[:i]], axis=0)\n",
    "\t\t\tprobabilities = distances / np.sum(distances)\n",
    "\t\t\tcenters[i] = np.random.choice(NUM_PIXEL, p=probabilities)\n",
    "\telse:\n",
    "\t\traise ValueError('Wrong input for initial method !')\n",
    "\t\n",
    "\tmeans = U[centers]\n",
    "\tclusters = np.full(NUM_PIXEL, -1, dtype=int)\n",
    "\tclusters[centers] = np.arange(NUM_CLUSTER)\n",
    "\n",
    "\treturn means, clusters"
   ]
  },
  {
   "cell_type": "code",
   "execution_count": 4,
   "metadata": {},
   "outputs": [],
   "source": [
    "def Kmeans(U):\n",
    "\tmeans, clusters = Init_Kmeans(U)\n",
    "\n",
    "\tconverge = False\n",
    "\titeration = 1\n",
    "\t\n",
    "\twhile not converge:\n",
    "\t\tprint(f'iteration: {iteration}')\n",
    "\t\tpre_clusters = clusters\n",
    "\t\tclusters = E_Step(U, means)\n",
    "\t\tmeans = M_Step(U, clusters)\n",
    "\t\tSavefig(clusters, iteration)\n",
    "\t\tconverge = isConverge(clusters, pre_clusters)\n",
    "\t\titeration += 1\n",
    "\t\n",
    "\treturn clusters"
   ]
  },
  {
   "cell_type": "code",
   "execution_count": 5,
   "metadata": {},
   "outputs": [],
   "source": [
    "def E_Step(U, means):\n",
    "    U = np.asarray(U, dtype=float)\n",
    "    means = np.asarray(means, dtype=float)\n",
    "    distances = np.linalg.norm(U[:, None, :] - means[None, :, :], axis=2)\n",
    "    return np.argmin(distances, axis=1)"
   ]
  },
  {
   "cell_type": "code",
   "execution_count": 6,
   "metadata": {},
   "outputs": [],
   "source": [
    "def M_Step(U, clusters):\n",
    "    U = np.asarray(U, dtype=float)\n",
    "    new_means = np.array([U[clusters == k].mean(axis=0) if np.any(clusters == k) else np.zeros(U.shape[1]) for k in range(NUM_CLUSTER)], dtype=float)\n",
    "    return new_means"
   ]
  },
  {
   "cell_type": "code",
   "execution_count": 7,
   "metadata": {},
   "outputs": [],
   "source": [
    "def Laplacian(W):\n",
    "    D = np.diag(W.sum(axis=1))\n",
    "    L = D - W\n",
    "    return L, D"
   ]
  },
  {
   "cell_type": "code",
   "execution_count": 8,
   "metadata": {},
   "outputs": [],
   "source": [
    "def Normalize_Laplacian(L, D):\n",
    "\tsqrt_D = np.diag(1.0 / np.sqrt(np.diag(D)))\n",
    "\tL_norm = sqrt_D @ L @ sqrt_D\n",
    "\treturn L_norm , sqrt_D "
   ]
  },
  {
   "cell_type": "code",
   "execution_count": 9,
   "metadata": {},
   "outputs": [],
   "source": [
    "def Eigen_Decomposition(L):\n",
    "    eigenvalues, eigenvectors = np.linalg.eig(L)\n",
    "    index = np.argsort(eigenvalues)\n",
    "    eigenvectors = eigenvectors[:, index]\n",
    "\n",
    "    return eigenvectors"
   ]
  },
  {
   "cell_type": "code",
   "execution_count": 10,
   "metadata": {},
   "outputs": [],
   "source": [
    "def isConverge(clusters, pre_clusters):\n",
    "    return np.array_equal(clusters, pre_clusters)"
   ]
  },
  {
   "cell_type": "code",
   "execution_count": 11,
   "metadata": {},
   "outputs": [],
   "source": [
    "def Savefig(clusters, iteration):\n",
    "    pixel = COLOR[clusters]\n",
    "    pixel = np.reshape(pixel, (100, 100, 3))\n",
    "    img = Image.fromarray(np.uint8(pixel))\n",
    "    img.save(OUTPUT_DIR + '/%01d_%03d.png'%(NUM_CLUSTER, iteration), 'png')\n",
    "    return"
   ]
  },
  {
   "cell_type": "code",
   "execution_count": 105,
   "metadata": {},
   "outputs": [],
   "source": [
    "def Eigenspace(U, clusters):\n",
    "    if NUM_CLUSTER == 2:\n",
    "        plt.scatter(U[:, 0], U[:, 1], c=[EIGENSPACE_COLOR[c] for c in clusters])\n",
    "    elif NUM_CLUSTER == 3:\n",
    "        print(U.shape)\n",
    "        fig = plt.figure()\n",
    "        ax = fig.add_subplot(projection='3d')\n",
    "        ax.scatter(U[:, 0], U[:, 1], U[:, 2], c=[EIGENSPACE_COLOR[c] for c in clusters])\n",
    "    else:\n",
    "        raise ValueError('Eigenspace can only be visualized for 2 or 3 clusters')\n",
    "    plt.savefig(f'{OUTPUT_DIR}/eigenspace_{NUM_CLUSTER}.png')\n",
    "    plt.show()"
   ]
  },
  {
   "cell_type": "code",
   "execution_count": 141,
   "metadata": {},
   "outputs": [],
   "source": [
    "IMAGE_ID = int(input(\"Image id [1/2]: \"))\n",
    "NUM_CLUSTER = int(input(\"Number of cluster [2/3/4]: \"))\n",
    "MODE = input(\"Mode: normalized / ratio [n/r]? \")\n",
    "INIT_METHOD = input(\"Initial method: random / kmeans++ [r/k]? \")\n",
    "NUM_PIXEL = 10000\n",
    "GAMMA_S = 0.001\n",
    "GAMMA_C = 0.001\n",
    "COLOR = np.array([[56, 207, 0], [64, 70, 230], [186, 7, 61], [245, 179, 66], [55, 240, 240]])\n",
    "EIGENSPACE_COLOR = ['c', 'm', 'grey']\n",
    "IMAGE_PATH = f'./data/image{IMAGE_ID}.png'\n",
    "OUTPUT_DIR = f'./output/spectral_clustering/{MODE}/{INIT_METHOD}/image{IMAGE_ID}'\n",
    "\n",
    "os.makedirs(OUTPUT_DIR, exist_ok=True)"
   ]
  },
  {
   "cell_type": "code",
   "execution_count": 133,
   "metadata": {},
   "outputs": [],
   "source": [
    "img = np.asarray(Image.open(IMAGE_PATH).getdata())\n",
    "W = Kernel(img)\n",
    "L, D = Laplacian(W)\n",
    "Eigenvectors = Eigen_Decomposition(L)\n",
    "\n",
    "\n"
   ]
  },
  {
   "cell_type": "code",
   "execution_count": 142,
   "metadata": {},
   "outputs": [],
   "source": [
    "U = Eigenvectors[:, 1:1+NUM_CLUSTER].real"
   ]
  },
  {
   "cell_type": "code",
   "execution_count": 144,
   "metadata": {},
   "outputs": [
    {
     "name": "stdout",
     "output_type": "stream",
     "text": [
      "Image: 2, k: 4, mode: r, init_method: k\n",
      "kmeans++\n",
      "iteration: 1\n",
      "iteration: 2\n",
      "iteration: 3\n",
      "iteration: 4\n",
      "iteration: 5\n",
      "iteration: 6\n",
      "iteration: 7\n",
      "iteration: 8\n",
      "iteration: 9\n",
      "iteration: 10\n",
      "iteration: 11\n",
      "iteration: 12\n",
      "iteration: 13\n",
      "iteration: 14\n",
      "iteration: 15\n"
     ]
    }
   ],
   "source": [
    "print(f'Image: {IMAGE_ID}, k: {NUM_CLUSTER}, mode: {MODE}, init_method: {INIT_METHOD}')\n",
    "if MODE == 'r': # ratio cut\n",
    "\tclusters = Kmeans(U)\n",
    "\tif NUM_CLUSTER <= 3:\n",
    "\t\tEigenspace(U, clusters)\n",
    "elif MODE == 'n': # normalized\n",
    "\tL_norm, sqrt_D = Normalize_Laplacian(L, D)\n",
    "\tEigenvectors = Eigen_Decomposition(L_norm)\n",
    "\tU = Eigenvectors[:, 1:1+NUM_CLUSTER].real\n",
    "\tT = sqrt_D @ U\n",
    "\tclusters = Kmeans(T)\n",
    "\tif NUM_CLUSTER <= 3:\n",
    "\t\tEigenspace(T, clusters)\n",
    "else:\n",
    "\traise ValueError(\"Wrong input for Mode !\")"
   ]
  }
 ],
 "metadata": {
  "kernelspec": {
   "display_name": "figure",
   "language": "python",
   "name": "python3"
  },
  "language_info": {
   "codemirror_mode": {
    "name": "ipython",
    "version": 3
   },
   "file_extension": ".py",
   "mimetype": "text/x-python",
   "name": "python",
   "nbconvert_exporter": "python",
   "pygments_lexer": "ipython3",
   "version": "3.12.5"
  }
 },
 "nbformat": 4,
 "nbformat_minor": 2
}
